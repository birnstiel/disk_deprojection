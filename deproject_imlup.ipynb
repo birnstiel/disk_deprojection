{
 "cells": [
  {
   "cell_type": "markdown",
   "id": "f66c319b-1815-4831-be7c-30727e103723",
   "metadata": {},
   "source": [
    "# Deproject IM Lup"
   ]
  },
  {
   "cell_type": "markdown",
   "id": "2bb6e29b-51e9-458b-9865-8a081e585a61",
   "metadata": {},
   "source": [
    "Download DSHARP image"
   ]
  },
  {
   "cell_type": "markdown",
   "id": "88a73407-685a-47d3-a2e2-4b789750321b",
   "metadata": {},
   "source": [
    "    !wget https://almascience.eso.org/almadata/lp/DSHARP/images/IMLup_continuum.fits"
   ]
  },
  {
   "cell_type": "markdown",
   "id": "882aa589-f40e-4d75-b8bc-39a8ed1625aa",
   "metadata": {},
   "source": [
    "The sphere image needs to be requested by the authors."
   ]
  },
  {
   "cell_type": "code",
   "execution_count": null,
   "id": "d869354e-7e03-479a-beab-5f9c7e207191",
   "metadata": {},
   "outputs": [],
   "source": [
    "from pathlib import Path\n",
    "import numpy as np\n",
    "import matplotlib.pyplot as plt\n",
    "from matplotlib.colors import LogNorm\n",
    "from scipy.interpolate import griddata\n",
    "\n",
    "from gofish import imagecube\n",
    "\n",
    "figpath = Path('figures')\n",
    "figpath.mkdir(exist_ok=True)"
   ]
  },
  {
   "cell_type": "markdown",
   "id": "f322ed35-942b-464c-a2b8-3f5fa209e4f1",
   "metadata": {},
   "source": [
    "## Select either ALMA or SPHERE by running that cell"
   ]
  },
  {
   "cell_type": "markdown",
   "id": "18ffaad0-d104-4a3a-b71f-fee70bd8d753",
   "metadata": {},
   "source": [
    "### ALMA"
   ]
  },
  {
   "cell_type": "code",
   "execution_count": null,
   "id": "9b520fb0-9cc9-4eef-a772-f08a45b57fb6",
   "metadata": {},
   "outputs": [],
   "source": [
    "fname = 'IMLup_continuum.fits'\n",
    "name = 'IM Lup (ALMA)'\n",
    "clip = 3.0\n",
    "\n",
    "opts = dict(inc=47.5, PA=144.55, z0=0.0, psi=0.0, q_taper=1.0, r_taper=np.inf)"
   ]
  },
  {
   "cell_type": "markdown",
   "id": "e1a71336-3d3f-4aa6-8b0b-971fd4f913d4",
   "metadata": {},
   "source": [
    "### SPHERE"
   ]
  },
  {
   "cell_type": "markdown",
   "id": "efea0200-382d-4ef7-9e45-f9d5f7dcb4a0",
   "metadata": {},
   "source": [
    "\\begin{align}\n",
    "\\psi &= 1.27\\\\\n",
    "h/r &= 0.18\\text{ at 100 au}\n",
    "\\end{align}"
   ]
  },
  {
   "cell_type": "code",
   "execution_count": null,
   "id": "bc471b2f-1ba9-4b1f-859a-0028ee41b0f1",
   "metadata": {},
   "outputs": [],
   "source": [
    "fname = 'IM_Lup_reducedRob_median_Hband_12.25mas_mod.fits'\n",
    "name = 'IM Lup (SPHERE)'\n",
    "clip = 4.0\n",
    "dpc = 155.82\n",
    "z0 = -18 * (dpc / 100)**1.271 / dpc\n",
    "\n",
    "opts = dict(PA=325., inc=54.75, z0=z0, psi=1.271, q_taper=1.0, r_taper=np.inf)"
   ]
  },
  {
   "cell_type": "markdown",
   "id": "1fa16469-e9eb-4b5e-8c7c-67a0ade94be7",
   "metadata": {},
   "source": [
    "## Define the surface shape"
   ]
  },
  {
   "cell_type": "markdown",
   "id": "ecb92cae-b24d-49cb-aba4-812879341a82",
   "metadata": {},
   "source": [
    "$$z(r) = z_0 \\times \\left(\\frac{r}{1^{\\prime\\prime}}\\right)^{\\psi}  \\times \\exp\\left( -\\left[\\frac{r}{r_{\\rm taper}} \\right]^{q_{\\rm taper}} \\right)$$"
   ]
  },
  {
   "cell_type": "code",
   "execution_count": null,
   "id": "702e57e0-18e6-46af-960c-72eaed7885c8",
   "metadata": {},
   "outputs": [],
   "source": [
    "def z_fct(ras):\n",
    "    return opts['z0'] * ras**opts['psi'] * np.exp(-(ras / opts['r_taper'])**opts['q_taper'])"
   ]
  },
  {
   "cell_type": "markdown",
   "id": "245fd146-6f68-41c1-b65d-e5b8bd4c0b4b",
   "metadata": {},
   "source": [
    "## Process data"
   ]
  },
  {
   "cell_type": "markdown",
   "id": "8ffb0ad7-ff71-40ea-a04e-3328e049d8f1",
   "metadata": {},
   "source": [
    "### Read data"
   ]
  },
  {
   "cell_type": "code",
   "execution_count": null,
   "id": "91fa2963-abc0-4a75-ae5e-bdf4d0146236",
   "metadata": {},
   "outputs": [],
   "source": [
    "img = imagecube(fname, FOV=clip)"
   ]
  },
  {
   "cell_type": "markdown",
   "id": "636309f5-2f4d-4a49-8488-64313503e51f",
   "metadata": {},
   "source": [
    "### Compute sky coordinates"
   ]
  },
  {
   "cell_type": "code",
   "execution_count": null,
   "id": "b79205c2-9580-4986-8c98-7cc3768b9bf5",
   "metadata": {},
   "outputs": [],
   "source": [
    "r, th, z = img.disk_coords(z_func=z_fct, **opts)\n",
    "#r, th, z = img.disk_coords(**opts)"
   ]
  },
  {
   "cell_type": "markdown",
   "id": "5d509a28-e4c6-4a59-9897-14d1c079780d",
   "metadata": {},
   "source": [
    "### Deprojection"
   ]
  },
  {
   "cell_type": "markdown",
   "id": "cb2c9187-249a-4236-8cd2-eec977efef83",
   "metadata": {},
   "source": [
    "Compute regular grids to interpolate on"
   ]
  },
  {
   "cell_type": "code",
   "execution_count": null,
   "id": "047c2fca-108f-4bab-8397-38f5a30aa84f",
   "metadata": {},
   "outputs": [],
   "source": [
    "rui = np.linspace(0, 1.5, 101)\n",
    "tui = np.linspace(-np.pi, np.pi, 111)\n",
    "\n",
    "ru = 0.5 * (rui[1:] + rui[:-1])\n",
    "tu = 0.5 * (tui[1:] + tui[:-1])\n",
    "\n",
    "RUI, TUI = np.meshgrid(rui, tui, indexing='ij')\n",
    "RU, TU = np.meshgrid(ru, tu, indexing='ij')\n",
    "\n",
    "XUI = RUI * np.cos(TUI)\n",
    "YUI = RUI * np.sin(TUI)"
   ]
  },
  {
   "cell_type": "markdown",
   "id": "e0290564-c479-4351-8de6-8a58535850ba",
   "metadata": {},
   "source": [
    "Interpolate = deproject"
   ]
  },
  {
   "cell_type": "code",
   "execution_count": null,
   "id": "aa54a8eb-4f28-4daa-831f-fc5679658b86",
   "metadata": {},
   "outputs": [],
   "source": [
    "new_points = np.vstack((RU.ravel(), TU.ravel())).T\n",
    "points = np.vstack((r.ravel(), th.ravel())).T\n",
    "values = img.data.ravel()"
   ]
  },
  {
   "cell_type": "code",
   "execution_count": null,
   "id": "203e6965-2302-441c-8fc4-3c99fccb49a2",
   "metadata": {},
   "outputs": [],
   "source": [
    "im_dp = griddata(points, values, (RU, TU), method='linear')"
   ]
  },
  {
   "cell_type": "markdown",
   "id": "3eab6cc6-d6d4-4598-a2f2-d40af6242158",
   "metadata": {},
   "source": [
    "## Plotting"
   ]
  },
  {
   "cell_type": "code",
   "execution_count": null,
   "id": "19ef491b-51fb-4d4c-9f30-3e5e13843889",
   "metadata": {},
   "outputs": [],
   "source": [
    "norm = LogNorm(1e-3 * img.data.max(), img.data.max())\n",
    "figname = name.replace('(','').replace(')','').replace(' ','_')"
   ]
  },
  {
   "cell_type": "markdown",
   "id": "fbbdc9cd-9821-4c5e-8f55-f3ce40fb330d",
   "metadata": {},
   "source": [
    "### Projected surface and deprojected image"
   ]
  },
  {
   "cell_type": "code",
   "execution_count": null,
   "id": "29c75961-2e32-45aa-864f-4df4bac3a624",
   "metadata": {},
   "outputs": [],
   "source": [
    "r_circles = [0.5, 1, 1.5, 2]\n",
    "\n",
    "f, axs = plt.subplots(1, 2, figsize=(10, 5))\n",
    "\n",
    "ax = axs[0]\n",
    "ax.pcolormesh(img.xaxis, img.yaxis, img.data, norm=norm)\n",
    "ax.set_xlim(ax.get_xlim()[::-1])\n",
    "ax.set_aspect(1)\n",
    "ax.text(0.015, 0.95, name, transform=axs[0].transAxes, color='w', bbox={'color':'k','alpha':0.45})\n",
    "\n",
    "cc_r = ax.contour(img.xaxis, img.yaxis, r, r_circles, linewidths=1, linestyles='--', colors='w')\n",
    "ax.clabel(cc_r)\n",
    "cc_t = ax.contour(img.xaxis, img.yaxis, np.rad2deg(th+np.pi), np.arange(0, 360, 45) ,linewidths=1, linestyles='--', colors='k')\n",
    "ax.clabel(cc_t)\n",
    "\n",
    "ax = axs[1]\n",
    "ax.pcolormesh(XUI, YUI, im_dp, norm=norm)\n",
    "ax.set_aspect(1)\n",
    "for _r in r_circles:\n",
    "    c = plt.Circle((0, 0), radius=_r, fc='none', ec='w', ls='--')\n",
    "    ax.text(-_r, 0, f'{_r:.1f}\"', rotation=90, c='w', ha='right', va='center')\n",
    "    ax.add_artist(c)\n",
    "    \n",
    "f.savefig(figpath / f\"{figname}_deprojection.png\")"
   ]
  },
  {
   "cell_type": "markdown",
   "id": "92454346-148d-4bc8-b306-a88b847574f5",
   "metadata": {},
   "source": [
    "### Radial profile and residuals\n",
    "\n",
    "Substracting azimuthally-averaged profile"
   ]
  },
  {
   "cell_type": "code",
   "execution_count": null,
   "id": "10602c64-c32d-41c5-bffc-80861e3f6653",
   "metadata": {},
   "outputs": [],
   "source": [
    "profile = im_dp.mean(-1)\n",
    "\n",
    "f, axs = plt.subplots(1, 2, figsize=(10, 5))\n",
    "\n",
    "axs[0].semilogy(ru, profile)\n",
    "axs[0].set_title('radial profile')\n",
    "\n",
    "ax = axs[1]\n",
    "cc = ax.pcolormesh(XUI, YUI, im_dp / profile[:, None] - 1)\n",
    "ax.set_aspect(1)\n",
    "cb = f.colorbar(cc, ax=ax, orientation='horizontal', fraction=0.05, location='top', pad=0)\n",
    "cb.set_label('fractional residual')\n",
    "for _r in r_circles:\n",
    "    c = plt.Circle((0, 0), radius=_r, fc='none', ec='w', ls='--')\n",
    "    ax.text(-_r, 0, f'{_r:.1f}\"', rotation=90, c='w', ha='right', va='center')\n",
    "    ax.add_artist(c)\n",
    "\n",
    "f.savefig(figpath / f\"{figname}_profile.png\")"
   ]
  },
  {
   "cell_type": "markdown",
   "id": "6eaa25bd-833f-4fd4-8ec4-2ff7a35f0778",
   "metadata": {},
   "source": [
    "phase function as function of azimuth (note: $\\neq$ scattering angle!)"
   ]
  },
  {
   "cell_type": "code",
   "execution_count": null,
   "id": "fe76988b-6dd7-4e9f-bf88-8631111694ad",
   "metadata": {},
   "outputs": [],
   "source": [
    "plt.plot(tu, np.nanmean(im_dp / profile[:, None] - 1, 0));"
   ]
  }
 ],
 "metadata": {
  "kernelspec": {
   "display_name": "Python 3 (ipykernel)",
   "language": "python",
   "name": "python3"
  },
  "language_info": {
   "codemirror_mode": {
    "name": "ipython",
    "version": 3
   },
   "file_extension": ".py",
   "mimetype": "text/x-python",
   "name": "python",
   "nbconvert_exporter": "python",
   "pygments_lexer": "ipython3",
   "version": "3.9.15"
  }
 },
 "nbformat": 4,
 "nbformat_minor": 5
}
